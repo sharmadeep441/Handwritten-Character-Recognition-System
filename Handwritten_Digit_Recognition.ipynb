{
  "cells": [
    {
      "cell_type": "markdown",
      "metadata": {
        "id": "view-in-github",
        "colab_type": "text"
      },
      "source": [
        "<a href=\"https://colab.research.google.com/github/sharmadeep441/Handwritten-Character-Recognition-System/blob/main/Handwritten_Digit_Recognition.ipynb\" target=\"_parent\"><img src=\"https://colab.research.google.com/assets/colab-badge.svg\" alt=\"Open In Colab\"/></a>"
      ]
    },
    {
      "cell_type": "code",
      "execution_count": null,
      "metadata": {
        "id": "bLEc51k2QZ-k"
      },
      "outputs": [],
      "source": [
        "import pandas as pd\n",
        "import numpy as np\n",
        "import matplotlib.pyplot as plt\n"
      ]
    },
    {
      "cell_type": "code",
      "execution_count": null,
      "metadata": {
        "colab": {
          "base_uri": "https://localhost:8080/"
        },
        "id": "8uyHVQdfQmlC",
        "outputId": "53de3fa9-b272-4ff2-d256-0c8dfa5353e6"
      },
      "outputs": [
        {
          "name": "stdout",
          "output_type": "stream",
          "text": [
            "Downloading data from https://storage.googleapis.com/tensorflow/tf-keras-datasets/mnist.npz\n",
            "11493376/11490434 [==============================] - 0s 0us/step\n",
            "11501568/11490434 [==============================] - 0s 0us/step\n"
          ]
        }
      ],
      "source": [
        "from tensorflow.keras.datasets import mnist\n",
        "(x_train,y_train), (x_test,y_test) = mnist.load_data()"
      ]
    },
    {
      "cell_type": "code",
      "execution_count": null,
      "metadata": {
        "colab": {
          "base_uri": "https://localhost:8080/"
        },
        "id": "Ja6uF4v-RTp9",
        "outputId": "42ee557f-a5ee-4014-e38e-9c9ffc82ae30"
      },
      "outputs": [
        {
          "data": {
            "text/plain": [
              "(10000,)"
            ]
          },
          "execution_count": 4,
          "metadata": {},
          "output_type": "execute_result"
        }
      ],
      "source": [
        "x_train.shape\n",
        "y_train.shape\n",
        "x_test.shape\n",
        "y_test.shape"
      ]
    },
    {
      "cell_type": "code",
      "execution_count": null,
      "metadata": {
        "colab": {
          "base_uri": "https://localhost:8080/"
        },
        "id": "jg8nMrWxM-K-",
        "outputId": "8b82f853-1166-4b95-b480-9c571b749d92"
      },
      "outputs": [
        {
          "data": {
            "text/plain": [
              "(60000, 28, 28)"
            ]
          },
          "execution_count": 5,
          "metadata": {},
          "output_type": "execute_result"
        }
      ],
      "source": [
        "x_train.shape"
      ]
    },
    {
      "cell_type": "code",
      "execution_count": null,
      "metadata": {
        "colab": {
          "base_uri": "https://localhost:8080/",
          "height": 282
        },
        "id": "A9CheYPcR0qC",
        "outputId": "1a043cc8-99b0-4f6d-de34-2ff1aa3c559e"
      },
      "outputs": [
        {
          "data": {
            "text/plain": [
              "<matplotlib.image.AxesImage at 0x7f5de59ab590>"
            ]
          },
          "execution_count": 6,
          "metadata": {},
          "output_type": "execute_result"
        },
        {
          "data": {
            "image/png": "[encoded data removed]",
            "text/plain": [
              "<Figure size 432x288 with 1 Axes>"
            ]
          },
          "metadata": {},
          "output_type": "display_data"
        }
      ],
      "source": [
        "plt.imshow(x_train[0], cmap = 'gray')"
      ]
    },
    {
      "cell_type": "code",
      "execution_count": null,
      "metadata": {
        "colab": {
          "base_uri": "https://localhost:8080/"
        },
        "id": "wY_4wIDPSDsy",
        "outputId": "954dc6b7-b08f-40a7-a35f-4165ab55b537"
      },
      "outputs": [
        {
          "data": {
            "text/plain": [
              "5"
            ]
          },
          "execution_count": 7,
          "metadata": {},
          "output_type": "execute_result"
        }
      ],
      "source": [
        "y_train[0]"
      ]
    },
    {
      "cell_type": "code",
      "execution_count": null,
      "metadata": {
        "colab": {
          "base_uri": "https://localhost:8080/"
        },
        "id": "oAkSrIhwSJGI",
        "outputId": "c6671df2-1550-468e-c8a8-ea45d0fd96f3"
      },
      "outputs": [
        {
          "name": "stdout",
          "output_type": "stream",
          "text": [
            "{0, 1, 2, 3, 4, 5, 6, 7, 8, 9}\n"
          ]
        }
      ],
      "source": [
        "print(set(y_train))"
      ]
    },
    {
      "cell_type": "markdown",
      "metadata": {
        "id": "5IoWDnWlSzvh"
      },
      "source": [
        "one hot encoding of labels"
      ]
    },
    {
      "cell_type": "code",
      "execution_count": null,
      "metadata": {
        "colab": {
          "base_uri": "https://localhost:8080/"
        },
        "id": "mWRfn81CS2dD",
        "outputId": "ce523efd-3d96-4092-f2bb-67e2b7271803"
      },
      "outputs": [
        {
          "data": {
            "text/plain": [
              "array([[0., 0., 0., ..., 1., 0., 0.],\n",
              "       [0., 0., 1., ..., 0., 0., 0.],\n",
              "       [0., 1., 0., ..., 0., 0., 0.],\n",
              "       ...,\n",
              "       [0., 0., 0., ..., 0., 0., 0.],\n",
              "       [0., 0., 0., ..., 0., 0., 0.],\n",
              "       [0., 0., 0., ..., 0., 0., 0.]], dtype=float32)"
            ]
          },
          "execution_count": 9,
          "metadata": {},
          "output_type": "execute_result"
        }
      ],
      "source": [
        "from tensorflow.keras.utils import to_categorical\n",
        "\n",
        "y_train_encoded = to_categorical(y_train)\n",
        "y_test_encoded = to_categorical(y_test)\n",
        "\n",
        "y_test_encoded"
      ]
    },
    {
      "cell_type": "code",
      "execution_count": null,
      "metadata": {
        "id": "MbwH7w_cNRdw"
      },
      "outputs": [],
      "source": [
        "y_test_encoded.shape"
      ]
    },
    {
      "cell_type": "code",
      "execution_count": null,
      "metadata": {
        "colab": {
          "base_uri": "https://localhost:8080/"
        },
        "id": "uq6jzNMeVpSP",
        "outputId": "fee1355a-fee2-4ec0-9ad7-ff05806e03fa"
      },
      "outputs": [
        {
          "data": {
            "text/plain": [
              "{0,\n",
              " 1,\n",
              " 2,\n",
              " 3,\n",
              " 9,\n",
              " 11,\n",
              " 14,\n",
              " 16,\n",
              " 18,\n",
              " 23,\n",
              " 24,\n",
              " 25,\n",
              " 26,\n",
              " 27,\n",
              " 30,\n",
              " 35,\n",
              " 36,\n",
              " 39,\n",
              " 43,\n",
              " 45,\n",
              " 46,\n",
              " 49,\n",
              " 55,\n",
              " 56,\n",
              " 64,\n",
              " 66,\n",
              " 70,\n",
              " 78,\n",
              " 80,\n",
              " 81,\n",
              " 82,\n",
              " 90,\n",
              " 93,\n",
              " 94,\n",
              " 107,\n",
              " 108,\n",
              " 114,\n",
              " 119,\n",
              " 126,\n",
              " 127,\n",
              " 130,\n",
              " 132,\n",
              " 133,\n",
              " 135,\n",
              " 136,\n",
              " 139,\n",
              " 148,\n",
              " 150,\n",
              " 154,\n",
              " 156,\n",
              " 160,\n",
              " 166,\n",
              " 170,\n",
              " 171,\n",
              " 172,\n",
              " 175,\n",
              " 182,\n",
              " 183,\n",
              " 186,\n",
              " 187,\n",
              " 190,\n",
              " 195,\n",
              " 198,\n",
              " 201,\n",
              " 205,\n",
              " 207,\n",
              " 212,\n",
              " 213,\n",
              " 219,\n",
              " 221,\n",
              " 225,\n",
              " 226,\n",
              " 229,\n",
              " 238,\n",
              " 240,\n",
              " 241,\n",
              " 242,\n",
              " 244,\n",
              " 247,\n",
              " 249,\n",
              " 250,\n",
              " 251,\n",
              " 252,\n",
              " 253,\n",
              " 255}"
            ]
          },
          "execution_count": 10,
          "metadata": {},
          "output_type": "execute_result"
        }
      ],
      "source": [
        "#Neural Network i.e. Y = W.X + B\n",
        "x_train_reshape = np.reshape(x_train, (60000, 784))\n",
        "x_test_reshape = np.reshape(x_test, (10000, 784))\n",
        "\n",
        "set(x_train_reshape[0])"
      ]
    },
    {
      "cell_type": "code",
      "execution_count": null,
      "metadata": {
        "id": "X0w3oVMVcioi"
      },
      "outputs": [],
      "source": [
        "x_mean = np.mean(x_train_reshape)\n",
        "x_std = np.std(x_train_reshape)\n",
        "\n",
        "epsilon = 1e-10"
      ]
    },
    {
      "cell_type": "code",
      "execution_count": null,
      "metadata": {
        "id": "jIuPe_2_dMrl"
      },
      "outputs": [],
      "source": [
        "x_train_norm = (x_train_reshape - x_mean)/(x_std + epsilon)\n",
        "x_test_norm = (x_test_reshape - x_mean)/(x_std + epsilon)"
      ]
    },
    {
      "cell_type": "code",
      "execution_count": null,
      "metadata": {
        "colab": {
          "base_uri": "https://localhost:8080/"
        },
        "id": "nMnVnvW6dv9w",
        "outputId": "b5deeb86-275a-4038-9d1b-b012c994bb6c"
      },
      "outputs": [
        {
          "data": {
            "text/plain": [
              "{-0.4240738943910262,\n",
              " -0.41134598364562713,\n",
              " -0.39861807290022805,\n",
              " -0.38589016215482896,\n",
              " -0.30952269768243434,\n",
              " -0.2840668761916362,\n",
              " -0.24588314395543887,\n",
              " -0.22042732246464067,\n",
              " -0.19497150097384247,\n",
              " -0.13133194724684696,\n",
              " -0.11860403650144787,\n",
              " -0.10587612575604877,\n",
              " -0.09314821501064967,\n",
              " -0.08042030426525057,\n",
              " -0.042236572029053274,\n",
              " 0.02140298169794222,\n",
              " 0.03413089244334132,\n",
              " 0.07231462467953861,\n",
              " 0.12322626766113501,\n",
              " 0.1486820891519332,\n",
              " 0.16140999989733232,\n",
              " 0.1995937321335296,\n",
              " 0.2759611966059242,\n",
              " 0.2886891073513233,\n",
              " 0.3905123933145161,\n",
              " 0.4159682148053143,\n",
              " 0.4668798577869107,\n",
              " 0.5687031437501034,\n",
              " 0.5941589652409017,\n",
              " 0.6068868759863008,\n",
              " 0.6196147867316999,\n",
              " 0.7214380726948927,\n",
              " 0.75962180493109,\n",
              " 0.772349715676489,\n",
              " 0.9378125553666773,\n",
              " 0.9505404661120763,\n",
              " 1.026907930584471,\n",
              " 1.0905474843114664,\n",
              " 1.17964285952926,\n",
              " 1.1923707702746593,\n",
              " 1.2305545025108566,\n",
              " 1.2560103240016547,\n",
              " 1.268738234747054,\n",
              " 1.294194056237852,\n",
              " 1.306921966983251,\n",
              " 1.3451056992194483,\n",
              " 1.4596568959280403,\n",
              " 1.4851127174188385,\n",
              " 1.5360243604004349,\n",
              " 1.5614801818912332,\n",
              " 1.6123918248728295,\n",
              " 1.6887592893452241,\n",
              " 1.7396709323268205,\n",
              " 1.7523988430722195,\n",
              " 1.7651267538176187,\n",
              " 1.803310486053816,\n",
              " 1.8924058612716097,\n",
              " 1.9051337720170087,\n",
              " 1.943317504253206,\n",
              " 1.9560454149986053,\n",
              " 1.9942291472348024,\n",
              " 2.057868700961798,\n",
              " 2.096052433197995,\n",
              " 2.1342361654341926,\n",
              " 2.185147808415789,\n",
              " 2.210603629906587,\n",
              " 2.274243183633583,\n",
              " 2.286971094378982,\n",
              " 2.3633385588513764,\n",
              " 2.3887943803421745,\n",
              " 2.439706023323771,\n",
              " 2.45243393406917,\n",
              " 2.490617666305367,\n",
              " 2.6051688630139593,\n",
              " 2.6306246845047574,\n",
              " 2.6433525952501564,\n",
              " 2.6560805059955555,\n",
              " 2.681536327486354,\n",
              " 2.719720059722551,\n",
              " 2.7451758812133495,\n",
              " 2.7579037919587486,\n",
              " 2.7706317027041476,\n",
              " 2.7833596134495466,\n",
              " 2.7960875241949457,\n",
              " 2.8215433456857437}"
            ]
          },
          "execution_count": 13,
          "metadata": {},
          "output_type": "execute_result"
        }
      ],
      "source": [
        "set(x_train_norm[0])"
      ]
    },
    {
      "cell_type": "code",
      "execution_count": null,
      "metadata": {
        "id": "uIah13todzqp"
      },
      "outputs": [],
      "source": [
        "from tensorflow.keras.models import Sequential\n",
        "from tensorflow.keras.layers import Dense"
      ]
    },
    {
      "cell_type": "code",
      "execution_count": null,
      "metadata": {
        "id": "ulXfd80bhH_N"
      },
      "outputs": [],
      "source": [
        "ann = Sequential()\n",
        "\n",
        "ann.add(Dense(units=128, activation='relu', input_shape = (784, )))\n",
        "\n",
        "ann.add(Dense(units=128, activation='relu'))\n",
        "\n",
        "ann.add(Dense(units=10, activation='softmax'))"
      ]
    },
    {
      "cell_type": "code",
      "execution_count": null,
      "metadata": {
        "id": "Gk2UdhQUiaVZ"
      },
      "outputs": [],
      "source": [
        "ann.compile(optimizer = 'sgd', loss = 'categorical_crossentropy', metrics = ['accuracy'])"
      ]
    },
    {
      "cell_type": "code",
      "execution_count": null,
      "metadata": {
        "colab": {
          "base_uri": "https://localhost:8080/"
        },
        "id": "BWTt7xBFitkc",
        "outputId": "2844120a-a1e1-4141-c134-6bb28daabbf8"
      },
      "outputs": [
        {
          "name": "stdout",
          "output_type": "stream",
          "text": [
            "Model: \"sequential\"\n",
            "_________________________________________________________________\n",
            " Layer (type)                Output Shape              Param #   \n",
            "=================================================================\n",
            " dense (Dense)               (None, 128)               100480    \n",
            "                                                                 \n",
            " dense_1 (Dense)             (None, 128)               16512     \n",
            "                                                                 \n",
            " dense_2 (Dense)             (None, 10)                1290      \n",
            "                                                                 \n",
            "=================================================================\n",
            "Total params: 118,282\n",
            "Trainable params: 118,282\n",
            "Non-trainable params: 0\n",
            "_________________________________________________________________\n"
          ]
        }
      ],
      "source": [
        "ann.summary()"
      ]
    },
    {
      "cell_type": "code",
      "execution_count": null,
      "metadata": {
        "colab": {
          "background_save": true,
          "base_uri": "https://localhost:8080/"
        },
        "id": "2Y8sH-WujA06",
        "outputId": "a625e1db-a8d4-4ad0-eda2-07947a07d922"
      },
      "outputs": [
        {
          "name": "stdout",
          "output_type": "stream",
          "text": [
            "Epoch 1/100\n",
            "1875/1875 [==============================] - 6s 3ms/step - loss: 0.3779 - accuracy: 0.8897\n",
            "Epoch 2/100\n",
            "1875/1875 [==============================] - 5s 2ms/step - loss: 0.1829 - accuracy: 0.9461\n",
            "Epoch 3/100\n",
            "1875/1875 [==============================] - 8s 4ms/step - loss: 0.1394 - accuracy: 0.9591\n",
            "Epoch 4/100\n",
            "1875/1875 [==============================] - 5s 3ms/step - loss: 0.1135 - accuracy: 0.9671\n",
            "Epoch 5/100\n",
            "1875/1875 [==============================] - 5s 2ms/step - loss: 0.0968 - accuracy: 0.9725\n",
            "Epoch 6/100\n",
            "1875/1875 [==============================] - 5s 2ms/step - loss: 0.0838 - accuracy: 0.9757\n",
            "Epoch 7/100\n",
            "1875/1875 [==============================] - 5s 2ms/step - loss: 0.0729 - accuracy: 0.9789\n",
            "Epoch 8/100\n",
            "1875/1875 [==============================] - 5s 2ms/step - loss: 0.0648 - accuracy: 0.9814\n",
            "Epoch 9/100\n",
            "1875/1875 [==============================] - 6s 3ms/step - loss: 0.0580 - accuracy: 0.9834\n",
            "Epoch 10/100\n",
            "1875/1875 [==============================] - 8s 4ms/step - loss: 0.0512 - accuracy: 0.9857\n",
            "Epoch 11/100\n",
            "1875/1875 [==============================] - 5s 3ms/step - loss: 0.0461 - accuracy: 0.9871\n",
            "Epoch 12/100\n",
            "1875/1875 [==============================] - 5s 3ms/step - loss: 0.0416 - accuracy: 0.9886\n",
            "Epoch 13/100\n",
            "1875/1875 [==============================] - 5s 3ms/step - loss: 0.0374 - accuracy: 0.9898\n",
            "Epoch 14/100\n",
            "1875/1875 [==============================] - 5s 3ms/step - loss: 0.0336 - accuracy: 0.9911\n",
            "Epoch 15/100\n",
            "1875/1875 [==============================] - 5s 3ms/step - loss: 0.0306 - accuracy: 0.9922\n",
            "Epoch 16/100\n",
            "1875/1875 [==============================] - 5s 3ms/step - loss: 0.0275 - accuracy: 0.9930\n",
            "Epoch 17/100\n",
            "1875/1875 [==============================] - 5s 3ms/step - loss: 0.0246 - accuracy: 0.9942\n",
            "Epoch 18/100\n",
            "1875/1875 [==============================] - 5s 3ms/step - loss: 0.0222 - accuracy: 0.9951\n",
            "Epoch 19/100\n",
            "1875/1875 [==============================] - 4s 2ms/step - loss: 0.0203 - accuracy: 0.9955\n",
            "Epoch 20/100\n",
            "1875/1875 [==============================] - 5s 3ms/step - loss: 0.0184 - accuracy: 0.9962\n",
            "Epoch 21/100\n",
            "1875/1875 [==============================] - 5s 2ms/step - loss: 0.0166 - accuracy: 0.9969\n",
            "Epoch 22/100\n",
            "1875/1875 [==============================] - 5s 3ms/step - loss: 0.0149 - accuracy: 0.9975\n",
            "Epoch 23/100\n",
            "1875/1875 [==============================] - 5s 2ms/step - loss: 0.0137 - accuracy: 0.9976\n",
            "Epoch 24/100\n",
            "1875/1875 [==============================] - 5s 2ms/step - loss: 0.0123 - accuracy: 0.9982\n",
            "Epoch 25/100\n",
            "1875/1875 [==============================] - 5s 2ms/step - loss: 0.0111 - accuracy: 0.9984\n",
            "Epoch 26/100\n",
            "1875/1875 [==============================] - 4s 2ms/step - loss: 0.0101 - accuracy: 0.9987\n",
            "Epoch 27/100\n",
            "1875/1875 [==============================] - 5s 2ms/step - loss: 0.0093 - accuracy: 0.9990\n",
            "Epoch 28/100\n",
            "1875/1875 [==============================] - 5s 2ms/step - loss: 0.0085 - accuracy: 0.9991\n",
            "Epoch 29/100\n",
            "1875/1875 [==============================] - 5s 3ms/step - loss: 0.0078 - accuracy: 0.9992\n",
            "Epoch 30/100\n",
            "1875/1875 [==============================] - 5s 2ms/step - loss: 0.0071 - accuracy: 0.9995\n",
            "Epoch 31/100\n",
            "1875/1875 [==============================] - 4s 2ms/step - loss: 0.0064 - accuracy: 0.9995\n",
            "Epoch 32/100\n",
            "1875/1875 [==============================] - 5s 3ms/step - loss: 0.0060 - accuracy: 0.9997\n",
            "Epoch 33/100\n",
            "1875/1875 [==============================] - 5s 3ms/step - loss: 0.0056 - accuracy: 0.9997\n",
            "Epoch 34/100\n",
            "1875/1875 [==============================] - 5s 2ms/step - loss: 0.0051 - accuracy: 0.9997\n",
            "Epoch 35/100\n",
            "1875/1875 [==============================] - 5s 3ms/step - loss: 0.0047 - accuracy: 0.9998\n",
            "Epoch 36/100\n",
            "1875/1875 [==============================] - 5s 3ms/step - loss: 0.0044 - accuracy: 0.9999\n",
            "Epoch 37/100\n",
            "1875/1875 [==============================] - 4s 2ms/step - loss: 0.0041 - accuracy: 0.9999\n",
            "Epoch 38/100\n",
            "1875/1875 [==============================] - 5s 2ms/step - loss: 0.0039 - accuracy: 0.9998\n",
            "Epoch 39/100\n",
            "1875/1875 [==============================] - 4s 2ms/step - loss: 0.0037 - accuracy: 0.9999\n",
            "Epoch 40/100\n",
            "1875/1875 [==============================] - 5s 2ms/step - loss: 0.0035 - accuracy: 0.9999\n",
            "Epoch 41/100\n",
            "1875/1875 [==============================] - 4s 2ms/step - loss: 0.0032 - accuracy: 0.9999\n",
            "Epoch 42/100\n",
            "1875/1875 [==============================] - 5s 2ms/step - loss: 0.0031 - accuracy: 1.0000\n",
            "Epoch 43/100\n",
            "1875/1875 [==============================] - 5s 2ms/step - loss: 0.0029 - accuracy: 1.0000\n",
            "Epoch 44/100\n",
            "1875/1875 [==============================] - 5s 3ms/step - loss: 0.0028 - accuracy: 1.0000\n",
            "Epoch 45/100\n",
            "1875/1875 [==============================] - 5s 3ms/step - loss: 0.0026 - accuracy: 1.0000\n",
            "Epoch 46/100\n",
            "1875/1875 [==============================] - 5s 2ms/step - loss: 0.0025 - accuracy: 1.0000\n",
            "Epoch 47/100\n",
            "1875/1875 [==============================] - 5s 2ms/step - loss: 0.0024 - accuracy: 1.0000\n",
            "Epoch 48/100\n",
            "1875/1875 [==============================] - 5s 2ms/step - loss: 0.0023 - accuracy: 1.0000\n",
            "Epoch 49/100\n",
            "1875/1875 [==============================] - 5s 2ms/step - loss: 0.0022 - accuracy: 1.0000\n",
            "Epoch 50/100\n",
            "1875/1875 [==============================] - 5s 3ms/step - loss: 0.0021 - accuracy: 1.0000\n",
            "Epoch 51/100\n",
            "1875/1875 [==============================] - 5s 2ms/step - loss: 0.0020 - accuracy: 1.0000\n",
            "Epoch 52/100\n",
            "1875/1875 [==============================] - 5s 2ms/step - loss: 0.0019 - accuracy: 1.0000\n",
            "Epoch 53/100\n",
            "1875/1875 [==============================] - 5s 3ms/step - loss: 0.0019 - accuracy: 1.0000\n",
            "Epoch 54/100\n",
            "1875/1875 [==============================] - 5s 3ms/step - loss: 0.0018 - accuracy: 1.0000\n",
            "Epoch 55/100\n",
            "1875/1875 [==============================] - 5s 3ms/step - loss: 0.0017 - accuracy: 1.0000\n",
            "Epoch 56/100\n",
            "1875/1875 [==============================] - 5s 3ms/step - loss: 0.0017 - accuracy: 1.0000\n",
            "Epoch 57/100\n",
            "1875/1875 [==============================] - 5s 2ms/step - loss: 0.0016 - accuracy: 1.0000\n",
            "Epoch 58/100\n",
            "1875/1875 [==============================] - 5s 2ms/step - loss: 0.0016 - accuracy: 1.0000\n",
            "Epoch 59/100\n",
            "1875/1875 [==============================] - 5s 3ms/step - loss: 0.0015 - accuracy: 1.0000\n",
            "Epoch 60/100\n",
            "1875/1875 [==============================] - 5s 3ms/step - loss: 0.0015 - accuracy: 1.0000\n",
            "Epoch 61/100\n",
            "1875/1875 [==============================] - 5s 3ms/step - loss: 0.0014 - accuracy: 1.0000\n",
            "Epoch 62/100\n",
            "1875/1875 [==============================] - 5s 3ms/step - loss: 0.0014 - accuracy: 1.0000\n",
            "Epoch 63/100\n",
            "1875/1875 [==============================] - 5s 3ms/step - loss: 0.0013 - accuracy: 1.0000\n",
            "Epoch 64/100\n",
            "1875/1875 [==============================] - 5s 3ms/step - loss: 0.0013 - accuracy: 1.0000\n",
            "Epoch 65/100\n",
            "1875/1875 [==============================] - 5s 2ms/step - loss: 0.0013 - accuracy: 1.0000\n",
            "Epoch 66/100\n",
            "1875/1875 [==============================] - 4s 2ms/step - loss: 0.0012 - accuracy: 1.0000\n",
            "Epoch 67/100\n",
            "1875/1875 [==============================] - 4s 2ms/step - loss: 0.0012 - accuracy: 1.0000\n",
            "Epoch 68/100\n",
            "1875/1875 [==============================] - 4s 2ms/step - loss: 0.0012 - accuracy: 1.0000\n",
            "Epoch 69/100\n",
            "1875/1875 [==============================] - 4s 2ms/step - loss: 0.0011 - accuracy: 1.0000\n",
            "Epoch 70/100\n",
            "1875/1875 [==============================] - 4s 2ms/step - loss: 0.0011 - accuracy: 1.0000\n",
            "Epoch 71/100\n",
            "1875/1875 [==============================] - 4s 2ms/step - loss: 0.0011 - accuracy: 1.0000\n",
            "Epoch 72/100\n",
            "1875/1875 [==============================] - 5s 2ms/step - loss: 0.0011 - accuracy: 1.0000\n",
            "Epoch 73/100\n",
            "1875/1875 [==============================] - 4s 2ms/step - loss: 0.0010 - accuracy: 1.0000\n",
            "Epoch 74/100\n",
            "1875/1875 [==============================] - 5s 2ms/step - loss: 0.0010 - accuracy: 1.0000\n",
            "Epoch 75/100\n",
            "1875/1875 [==============================] - 5s 2ms/step - loss: 9.8003e-04 - accuracy: 1.0000\n",
            "Epoch 76/100\n",
            "1875/1875 [==============================] - 5s 2ms/step - loss: 9.5847e-04 - accuracy: 1.0000\n",
            "Epoch 77/100\n",
            "1875/1875 [==============================] - 5s 2ms/step - loss: 9.4339e-04 - accuracy: 1.0000\n",
            "Epoch 78/100\n",
            "1875/1875 [==============================] - 4s 2ms/step - loss: 9.1790e-04 - accuracy: 1.0000\n",
            "Epoch 79/100\n",
            "1875/1875 [==============================] - 4s 2ms/step - loss: 9.0151e-04 - accuracy: 1.0000\n",
            "Epoch 80/100\n",
            "1875/1875 [==============================] - 4s 2ms/step - loss: 8.8314e-04 - accuracy: 1.0000\n",
            "Epoch 81/100\n",
            "1875/1875 [==============================] - 5s 2ms/step - loss: 8.6017e-04 - accuracy: 1.0000\n",
            "Epoch 82/100\n",
            "1875/1875 [==============================] - 5s 2ms/step - loss: 8.4723e-04 - accuracy: 1.0000\n",
            "Epoch 83/100\n",
            "1875/1875 [==============================] - 5s 2ms/step - loss: 8.2904e-04 - accuracy: 1.0000\n",
            "Epoch 84/100\n",
            "1875/1875 [==============================] - 5s 2ms/step - loss: 8.1292e-04 - accuracy: 1.0000\n",
            "Epoch 85/100\n",
            "1875/1875 [==============================] - 5s 2ms/step - loss: 7.9645e-04 - accuracy: 1.0000\n",
            "Epoch 86/100\n",
            "1875/1875 [==============================] - 5s 2ms/step - loss: 7.8464e-04 - accuracy: 1.0000\n",
            "Epoch 87/100\n",
            "1875/1875 [==============================] - 5s 2ms/step - loss: 7.6673e-04 - accuracy: 1.0000\n",
            "Epoch 88/100\n",
            "1875/1875 [==============================] - 5s 3ms/step - loss: 7.5116e-04 - accuracy: 1.0000\n",
            "Epoch 89/100\n",
            "1875/1875 [==============================] - 5s 2ms/step - loss: 7.3738e-04 - accuracy: 1.0000\n",
            "Epoch 90/100\n",
            "1875/1875 [==============================] - 4s 2ms/step - loss: 7.2751e-04 - accuracy: 1.0000\n",
            "Epoch 91/100\n",
            "1875/1875 [==============================] - 4s 2ms/step - loss: 7.1182e-04 - accuracy: 1.0000\n",
            "Epoch 92/100\n",
            "1875/1875 [==============================] - 4s 2ms/step - loss: 7.0193e-04 - accuracy: 1.0000\n",
            "Epoch 93/100\n",
            "1875/1875 [==============================] - 4s 2ms/step - loss: 6.9027e-04 - accuracy: 1.0000\n",
            "Epoch 94/100\n",
            "1875/1875 [==============================] - 4s 2ms/step - loss: 6.7531e-04 - accuracy: 1.0000\n",
            "Epoch 95/100\n",
            "1875/1875 [==============================] - 5s 3ms/step - loss: 6.6630e-04 - accuracy: 1.0000\n",
            "Epoch 96/100\n",
            "1875/1875 [==============================] - 4s 2ms/step - loss: 6.5076e-04 - accuracy: 1.0000\n",
            "Epoch 97/100\n",
            "1875/1875 [==============================] - 4s 2ms/step - loss: 6.4442e-04 - accuracy: 1.0000\n",
            "Epoch 98/100\n",
            "1875/1875 [==============================] - 4s 2ms/step - loss: 6.3342e-04 - accuracy: 1.0000\n",
            "Epoch 99/100\n",
            "1875/1875 [==============================] - 4s 2ms/step - loss: 6.2383e-04 - accuracy: 1.0000\n",
            "Epoch 100/100\n",
            "1875/1875 [==============================] - 4s 2ms/step - loss: 6.1483e-04 - accuracy: 1.0000\n"
          ]
        },
        {
          "data": {
            "text/plain": [
              "<keras.callbacks.History at 0x7f5de12e7ed0>"
            ]
          },
          "execution_count": null,
          "metadata": {},
          "output_type": "execute_result"
        }
      ],
      "source": [
        "ann.fit(x_train_norm, y_train_encoded, batch_size = 32, epochs = 100)"
      ]
    },
    {
      "cell_type": "code",
      "execution_count": null,
      "metadata": {
        "colab": {
          "background_save": true
        },
        "id": "vVHxWNIZjyEV",
        "outputId": "3b275b4b-4f52-4a81-dd0e-9fe74304cfa7"
      },
      "outputs": [
        {
          "name": "stdout",
          "output_type": "stream",
          "text": [
            "313/313 [==============================] - 1s 2ms/step - loss: 0.0996 - accuracy: 0.9788\n"
          ]
        }
      ],
      "source": [
        "loss, accuracy = ann.evaluate(x_test_norm, y_test_encoded)"
      ]
    },
    {
      "cell_type": "code",
      "execution_count": null,
      "metadata": {
        "colab": {
          "background_save": true
        },
        "id": "LSQ5e5cElI_M",
        "outputId": "13273e0a-3e23-402e-ee58-73964cc17c18"
      },
      "outputs": [
        {
          "data": {
            "text/plain": [
              "array([[0., 0., 0., ..., 1., 0., 0.],\n",
              "       [0., 0., 1., ..., 0., 0., 0.],\n",
              "       [0., 1., 0., ..., 0., 0., 0.],\n",
              "       ...,\n",
              "       [0., 0., 0., ..., 0., 0., 0.],\n",
              "       [0., 0., 0., ..., 0., 0., 0.],\n",
              "       [0., 0., 0., ..., 0., 0., 0.]], dtype=float32)"
            ]
          },
          "execution_count": null,
          "metadata": {},
          "output_type": "execute_result"
        }
      ],
      "source": [
        "y_pred = ann.predict(x_test_norm)\n",
        "\n",
        "y_test_encoded"
      ]
    },
    {
      "cell_type": "code",
      "execution_count": null,
      "metadata": {
        "colab": {
          "background_save": true
        },
        "id": "HQENQvGSl4lm",
        "outputId": "ce2c87e0-af3e-4713-faac-a6eaf01bdd15"
      },
      "outputs": [
        {
          "data": {
            "text/plain": [
              "7"
            ]
          },
          "execution_count": null,
          "metadata": {},
          "output_type": "execute_result"
        }
      ],
      "source": [
        "predicted = np.argmax(y_pred, axis=1)\n",
        "predicted[0]\n"
      ]
    },
    {
      "cell_type": "code",
      "execution_count": null,
      "metadata": {
        "colab": {
          "background_save": true
        },
        "id": "9uJdI1FbnELy",
        "outputId": "f1999a13-c64a-479d-af7b-30d3d2c7f8c6"
      },
      "outputs": [
        {
          "data": {
            "text/plain": [
              "7"
            ]
          },
          "execution_count": null,
          "metadata": {},
          "output_type": "execute_result"
        }
      ],
      "source": [
        "y_test = np.argmax(y_test_encoded, axis=1)\n",
        "y_test[0]\n"
      ]
    },
    {
      "cell_type": "code",
      "execution_count": null,
      "metadata": {
        "colab": {
          "background_save": true
        },
        "id": "O5M6rwgKnbMg",
        "outputId": "0f7d304e-5e1a-4ea1-dd19-ac686a1248f7"
      },
      "outputs": [
        {
          "name": "stdout",
          "output_type": "stream",
          "text": [
            "[[7 7]\n",
            " [2 2]\n",
            " [1 1]\n",
            " ...\n",
            " [4 4]\n",
            " [5 5]\n",
            " [6 6]]\n"
          ]
        }
      ],
      "source": [
        "print(np.concatenate((predicted.reshape(len(predicted),1), y_test.reshape(len(y_test),1)),1))"
      ]
    },
    {
      "cell_type": "code",
      "execution_count": null,
      "metadata": {
        "colab": {
          "background_save": true
        },
        "id": "CyG3RTlGnn_t",
        "outputId": "b4363bfe-bae0-4364-94e1-ee68d527a68e"
      },
      "outputs": [
        {
          "name": "stdout",
          "output_type": "stream",
          "text": [
            "[[ 972    0    2    0    0    3    5    1    4    1]\n",
            " [   0 1126    1    0    0    1    2    4    2    3]\n",
            " [   1    3 1012    3    4    0    1    9    4    0]\n",
            " [   0    1    3  987    1    9    1    2    7    5]\n",
            " [   0    0    3    0  963    1    7    2    2   11]\n",
            " [   0    1    0    4    1  868    5    0    2    4]\n",
            " [   2    2    0    0    3    4  933    0    2    1]\n",
            " [   1    1    7    4    1    1    2 1003    2    4]\n",
            " [   4    1    4    7    1    4    2    3  947    3]\n",
            " [   0    0    0    5    8    1    0    4    2  977]]\n"
          ]
        },
        {
          "data": {
            "text/plain": [
              "0.9788"
            ]
          },
          "execution_count": null,
          "metadata": {},
          "output_type": "execute_result"
        }
      ],
      "source": [
        "from sklearn.metrics import confusion_matrix, accuracy_score\n",
        "cm = confusion_matrix(predicted, y_test)\n",
        "print(cm)\n",
        "accuracy_score(predicted, y_test)"
      ]
    }
  ],
  "metadata": {
    "colab": {
      "collapsed_sections": [],
      "name": "Handwritten Digit Recognition.ipynb",
      "provenance": [],
      "authorship_tag": "ABX9TyOzPhR0L3LafJWaYSENPmEg",
      "include_colab_link": true
    },
    "kernelspec": {
      "display_name": "Python 3",
      "name": "python3"
    },
    "language_info": {
      "name": "python"
    }
  },
  "nbformat": 4,
  "nbformat_minor": 0
}